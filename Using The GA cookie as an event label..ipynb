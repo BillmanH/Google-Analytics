{
 "cells": [
  {
   "cell_type": "markdown",
   "metadata": {},
   "source": [
    "# Looking at event session data in R using Google Analytics\n",
    "I use https://ga-dev-tools.appspot.com/explorer/ to build the query that I'm going to use to save time. "
   ]
  },
  {
   "cell_type": "code",
   "execution_count": 8,
   "metadata": {
    "collapsed": false,
    "scrolled": true
   },
   "outputs": [
    {
     "name": "stderr",
     "output_type": "stream",
     "text": [
      "Loading required package: lubridate\n",
      "\n",
      "Attaching package: 'lubridate'\n",
      "\n",
      "The following object is masked from 'package:base':\n",
      "\n",
      "    date\n",
      "\n",
      "Loading required package: httr\n"
     ]
    }
   ],
   "source": [
    "setwd(\"C:/Users/Bill/Desktop/Tahzoo.com Redesign/GoogleAnalytics/Experiments\")\n",
    "library(RGoogleAnalytics)"
   ]
  },
  {
   "cell_type": "code",
   "execution_count": 94,
   "metadata": {
    "collapsed": false
   },
   "outputs": [
    {
     "name": "stdout",
     "output_type": "stream",
     "text": [
      "Access Token successfully updated\n"
     ]
    }
   ],
   "source": [
    "load(\"C:/Users/Bill/Documents/google-analytics/GoogleAnalytics/toekn_file\")\n",
    "ValidateToken(token)"
   ]
  },
  {
   "cell_type": "markdown",
   "metadata": {},
   "source": [
    "The process for building a query is very straight forward. I usually play around with the query explorer provided by google until I have the table that I want and then just type the arguments in here."
   ]
  },
  {
   "cell_type": "code",
   "execution_count": 78,
   "metadata": {
    "collapsed": false
   },
   "outputs": [
    {
     "data": {
      "text/html": [
       "<ol class=list-inline>\n",
       "\t<li>\"from: \"</li>\n",
       "\t<li>\"2016-02-21\"</li>\n",
       "\t<li>\" To: \"</li>\n",
       "\t<li>\"2016-06-20\"</li>\n",
       "</ol>\n"
      ],
      "text/latex": [
       "\\begin{enumerate*}\n",
       "\\item \"from: \"\n",
       "\\item \"2016-02-21\"\n",
       "\\item \" To: \"\n",
       "\\item \"2016-06-20\"\n",
       "\\end{enumerate*}\n"
      ],
      "text/markdown": [
       "1. \"from: \"\n",
       "2. \"2016-02-21\"\n",
       "3. \" To: \"\n",
       "4. \"2016-06-20\"\n",
       "\n",
       "\n"
      ],
      "text/plain": [
       "[1] \"from: \"     \"2016-02-21\" \" To: \"      \"2016-06-20\""
      ]
     },
     "metadata": {},
     "output_type": "display_data"
    }
   ],
   "source": [
    "days_back <- 120\n",
    "ql = Init(start.date = format(Sys.Date()-days_back,\"%Y-%m-%d\"), #note the super clever way of counting days\n",
    "            end.date = format(Sys.Date(),\"%Y-%m-%d\"),  #you can enter specific dates as well. \n",
    "            metrics =  \"ga:sessions,ga:totalEvents\",\n",
    "            dimensions = \"ga:eventLabel\",\n",
    "            max.results = 10000,            #10000 is the max, you will have to paginate your query\n",
    "            table.id = \"ga:56928074\")\n",
    "\n",
    "q2 = Init(start.date = format(Sys.Date()-days_back,\"%Y-%m-%d\"), \n",
    "            end.date = format(Sys.Date(),\"%Y-%m-%d\"),\n",
    "            metrics =  \"ga:users\",\n",
    "            max.results = 10000,   \n",
    "            table.id = \"ga:56928074\")\n",
    "\n",
    "c(\"from: \", format(Sys.Date()-days_back,\"%Y-%m-%d\"), \" To: \", format(Sys.Date(),\"%Y-%m-%d\"))\n",
    "\n"
   ]
  },
  {
   "cell_type": "code",
   "execution_count": 79,
   "metadata": {
    "collapsed": false,
    "scrolled": true
   },
   "outputs": [
    {
     "name": "stdout",
     "output_type": "stream",
     "text": [
      "Status of Query:\n",
      "The API returned 4723 results\n",
      "Status of Query:\n",
      "The API returned 1 results\n"
     ]
    }
   ],
   "source": [
    "gq = QueryBuilder(ql)\n",
    "gq2 = QueryBuilder(q2)\n",
    "\n",
    "gd = GetReportData(gq, token, paginate_query = F)\n",
    "users = GetReportData(gq2, token)"
   ]
  },
  {
   "cell_type": "code",
   "execution_count": 62,
   "metadata": {
    "collapsed": false
   },
   "outputs": [
    {
     "data": {
      "text/html": [
       "<table>\n",
       "<thead><tr><th></th><th scope=col>eventLabel</th><th scope=col>sessions</th><th scope=col>totalEvents</th></tr></thead>\n",
       "<tbody>\n",
       "\t<tr><th scope=row>1</th><td>    </td><td>2628</td><td>2   </td></tr>\n",
       "\t<tr><th scope=row>2</th><td>GA1.2.1000767845.1461767781</td><td>2                          </td><td>2                          </td></tr>\n",
       "\t<tr><th scope=row>3</th><td>GA1.2.1001075852.1456520683</td><td>2                          </td><td>4                          </td></tr>\n",
       "\t<tr><th scope=row>4</th><td>GA1.2.1001299827.1464302474</td><td>1                          </td><td>2                          </td></tr>\n",
       "\t<tr><th scope=row>5</th><td>GA1.2.1001361534.1458136980</td><td>4                          </td><td>5                          </td></tr>\n",
       "\t<tr><th scope=row>6</th><td>GA1.2.1001524715.1453749442</td><td>5                          </td><td>6                          </td></tr>\n",
       "</tbody>\n",
       "</table>\n"
      ],
      "text/latex": [
       "\\begin{tabular}{r|lll}\n",
       "  & eventLabel & sessions & totalEvents\\\\\n",
       "\\hline\n",
       "\t1 &      & 2628 & 2   \\\\\n",
       "\t2 & GA1.2.1000767845.1461767781 & 2                           & 2                          \\\\\n",
       "\t3 & GA1.2.1001075852.1456520683 & 2                           & 4                          \\\\\n",
       "\t4 & GA1.2.1001299827.1464302474 & 1                           & 2                          \\\\\n",
       "\t5 & GA1.2.1001361534.1458136980 & 4                           & 5                          \\\\\n",
       "\t6 & GA1.2.1001524715.1453749442 & 5                           & 6                          \\\\\n",
       "\\end{tabular}\n"
      ],
      "text/plain": [
       "                   eventLabel sessions totalEvents\n",
       "1                                 2628           2\n",
       "2 GA1.2.1000767845.1461767781        2           2\n",
       "3 GA1.2.1001075852.1456520683        2           4\n",
       "4 GA1.2.1001299827.1464302474        1           2\n",
       "5 GA1.2.1001361534.1458136980        4           5\n",
       "6 GA1.2.1001524715.1453749442        5           6"
      ]
     },
     "metadata": {},
     "output_type": "display_data"
    }
   ],
   "source": [
    "head(gd)"
   ]
  },
  {
   "cell_type": "code",
   "execution_count": 63,
   "metadata": {
    "collapsed": false
   },
   "outputs": [
    {
     "data": {
      "text/html": [
       "<ol class=list-inline>\n",
       "\t<li>\"Total sessions with no GA code\"</li>\n",
       "\t<li>\"0.111625536252814\"</li>\n",
       "</ol>\n"
      ],
      "text/latex": [
       "\\begin{enumerate*}\n",
       "\\item \"Total sessions with no GA code\"\n",
       "\\item \"0.111625536252814\"\n",
       "\\end{enumerate*}\n"
      ],
      "text/markdown": [
       "1. \"Total sessions with no GA code\"\n",
       "2. \"0.111625536252814\"\n",
       "\n",
       "\n"
      ],
      "text/plain": [
       "[1] \"Total sessions with no GA code\" \"0.111625536252814\"             "
      ]
     },
     "metadata": {},
     "output_type": "display_data"
    },
    {
     "data": {
      "text/html": [
       "<ol class=list-inline>\n",
       "\t<li>\"Total sessions in dataset\"</li>\n",
       "\t<li>\"23543\"</li>\n",
       "</ol>\n"
      ],
      "text/latex": [
       "\\begin{enumerate*}\n",
       "\\item \"Total sessions in dataset\"\n",
       "\\item \"23543\"\n",
       "\\end{enumerate*}\n"
      ],
      "text/markdown": [
       "1. \"Total sessions in dataset\"\n",
       "2. \"23543\"\n",
       "\n",
       "\n"
      ],
      "text/plain": [
       "[1] \"Total sessions in dataset\" \"23543\"                    "
      ]
     },
     "metadata": {},
     "output_type": "display_data"
    }
   ],
   "source": [
    "c(\"Total sessions with no GA code\", gd[gd[\"eventLabel\"]==\"\",\"sessions\"]/sum(gd$sessions))\n",
    "c(\"Total sessions in dataset\",sum(gd$sessions))"
   ]
  },
  {
   "cell_type": "code",
   "execution_count": 64,
   "metadata": {
    "collapsed": false
   },
   "outputs": [
    {
     "data": {
      "text/html": [
       "<ol class=list-inline>\n",
       "\t<li>\"Number of unique visitors who are tracked\"</li>\n",
       "\t<li>\"4722\"</li>\n",
       "</ol>\n"
      ],
      "text/latex": [
       "\\begin{enumerate*}\n",
       "\\item \"Number of unique visitors who are tracked\"\n",
       "\\item \"4722\"\n",
       "\\end{enumerate*}\n"
      ],
      "text/markdown": [
       "1. \"Number of unique visitors who are tracked\"\n",
       "2. \"4722\"\n",
       "\n",
       "\n"
      ],
      "text/plain": [
       "[1] \"Number of unique visitors who are tracked\"\n",
       "[2] \"4722\"                                     "
      ]
     },
     "metadata": {},
     "output_type": "display_data"
    }
   ],
   "source": [
    "c(\"Number of unique visitors who are tracked\",length(unique(gd$eventLabel))-1)"
   ]
  },
  {
   "cell_type": "code",
   "execution_count": 65,
   "metadata": {
    "collapsed": false,
    "scrolled": true
   },
   "outputs": [
    {
     "data": {
      "text/plain": [
       "  eventLabel           sessions         totalEvents      eventsPerSession   \n",
       " Length:4723        Min.   :   1.000   Min.   :  1.000   Min.   : 0.000761  \n",
       " Class :character   1st Qu.:   1.000   1st Qu.:  1.000   1st Qu.: 1.000000  \n",
       " Mode  :character   Median :   2.000   Median :  3.000   Median : 1.000000  \n",
       "                    Mean   :   4.985   Mean   :  6.266   Mean   : 1.268770  \n",
       "                    3rd Qu.:   5.000   3rd Qu.:  6.000   3rd Qu.: 1.250000  \n",
       "                    Max.   :2628.000   Max.   :627.000   Max.   :21.000000  "
      ]
     },
     "metadata": {},
     "output_type": "display_data"
    }
   ],
   "source": [
    "gd$eventsPerSession <- gd$totalEvents/gd$sessions\n",
    "summary(gd)"
   ]
  },
  {
   "cell_type": "markdown",
   "metadata": {},
   "source": [
    "I'm going to drop the blank label from the dataset because it's bad data. I just wanted to show that untagged sessions are a small portion of the total audience."
   ]
  },
  {
   "cell_type": "code",
   "execution_count": 66,
   "metadata": {
    "collapsed": false
   },
   "outputs": [
    {
     "data": {
      "text/plain": [
       "  eventLabel           sessions        totalEvents      eventsPerSession\n",
       " Length:4722        Min.   :  1.000   Min.   :  1.000   Min.   : 1.000  \n",
       " Class :character   1st Qu.:  1.000   1st Qu.:  1.000   1st Qu.: 1.000  \n",
       " Mode  :character   Median :  2.000   Median :  3.000   Median : 1.000  \n",
       "                    Mean   :  4.429   Mean   :  6.267   Mean   : 1.269  \n",
       "                    3rd Qu.:  5.000   3rd Qu.:  6.000   3rd Qu.: 1.250  \n",
       "                    Max.   :231.000   Max.   :627.000   Max.   :21.000  "
      ]
     },
     "metadata": {},
     "output_type": "display_data"
    }
   ],
   "source": [
    "clean_gd <- gd[gd$eventLabel!=\"\",]\n",
    "summary(clean_gd)"
   ]
  },
  {
   "cell_type": "code",
   "execution_count": 80,
   "metadata": {
    "collapsed": false
   },
   "outputs": [
    {
     "data": {
      "text/html": [
       "<table>\n",
       "<thead><tr><th></th><th scope=col>users</th></tr></thead>\n",
       "<tbody>\n",
       "\t<tr><th scope=row>1</th><td>7806</td></tr>\n",
       "</tbody>\n",
       "</table>\n"
      ],
      "text/latex": [
       "\\begin{tabular}{r|l}\n",
       "  & users\\\\\n",
       "\\hline\n",
       "\t1 & 7806\\\\\n",
       "\\end{tabular}\n"
      ],
      "text/plain": [
       "  users\n",
       "1  7806"
      ]
     },
     "metadata": {},
     "output_type": "display_data"
    }
   ],
   "source": [
    "users"
   ]
  },
  {
   "cell_type": "code",
   "execution_count": 89,
   "metadata": {
    "collapsed": false
   },
   "outputs": [
    {
     "data": {
      "text/html": [
       "<ol class=list-inline>\n",
       "\t<li>\"Percent of total users who do not have a tracking code: \"</li>\n",
       "\t<li>\"3084\"</li>\n",
       "\t<li>\"0.395080707148347\"</li>\n",
       "</ol>\n"
      ],
      "text/latex": [
       "\\begin{enumerate*}\n",
       "\\item \"Percent of total users who do not have a tracking code: \"\n",
       "\\item \"3084\"\n",
       "\\item \"0.395080707148347\"\n",
       "\\end{enumerate*}\n"
      ],
      "text/markdown": [
       "1. \"Percent of total users who do not have a tracking code: \"\n",
       "2. \"3084\"\n",
       "3. \"0.395080707148347\"\n",
       "\n",
       "\n"
      ],
      "text/plain": [
       "[1] \"Percent of total users who do not have a tracking code: \"\n",
       "[2] \"3084\"                                                    \n",
       "[3] \"0.395080707148347\"                                       "
      ]
     },
     "metadata": {},
     "output_type": "display_data"
    }
   ],
   "source": [
    "c(\"Percent of total users who do not have a tracking code: \",\n",
    "      users[1,\"users\"]-length(unique(clean_gd$eventLabel)),\n",
    "      1-(length(unique(clean_gd$eventLabel))/users[1,\"users\"]))"
   ]
  },
  {
   "cell_type": "markdown",
   "metadata": {},
   "source": [
    "Clearly the GA tracking code changes out when clients delete cookies or refuse to accept cookies in their browser. Google Analytics tracks more unique users than I have GA tracking codes in my dataset. Although cookies cannot be used target ALL individuals for personalized messaging, it can be used to build models that indicate which items are predictors of certain behavior groups or \"Personas\". For those models I’m turning over to the Scikit Learn Library in Python. But I'm going to include the data extraction here as it pertains to the RGoogleAnalytics Library. "
   ]
  },
  {
   "cell_type": "code",
   "execution_count": 100,
   "metadata": {
    "collapsed": false
   },
   "outputs": [
    {
     "name": "stdout",
     "output_type": "stream",
     "text": [
      "Access Token is valid\n",
      "Getting data starting at row 10001 \n",
      "The API returned 18648 results\n"
     ]
    }
   ],
   "source": [
    "q3 = Init(start.date = format(Sys.Date()-days_back,\"%Y-%m-%d\"), \n",
    "            end.date = format(Sys.Date(),\"%Y-%m-%d\"),\n",
    "            metrics =  \"ga:users\",   #users is just a placeholder here, I just want a list of events and labels\n",
    "            dimensions = \"ga:eventLabel, ga:eventCategory\",\n",
    "            max.results = 10000,   \n",
    "            filters = \"ga:eventCategory!=::\",  #filtering out events where the lable is blank.  \"::\" is a blank Category \n",
    "            table.id = \"ga:56928074\")\n",
    "\n",
    "gq3 = QueryBuilder(q3)\n",
    "events = GetReportData(gq3, token, paginate_query = T)\n"
   ]
  },
  {
   "cell_type": "code",
   "execution_count": 98,
   "metadata": {
    "collapsed": false
   },
   "outputs": [
    {
     "data": {
      "text/plain": [
       "  eventLabel        eventCategory          users  \n",
       " Length:19228       Length:19228       Min.   :1  \n",
       " Class :character   Class :character   1st Qu.:1  \n",
       " Mode  :character   Mode  :character   Median :1  \n",
       "                                       Mean   :1  \n",
       "                                       3rd Qu.:1  \n",
       "                                       Max.   :2  "
      ]
     },
     "metadata": {},
     "output_type": "display_data"
    }
   ],
   "source": [
    "summary(events)"
   ]
  },
  {
   "cell_type": "code",
   "execution_count": 101,
   "metadata": {
    "collapsed": false
   },
   "outputs": [
    {
     "data": {
      "text/html": [
       "<table>\n",
       "<thead><tr><th></th><th scope=col>eventLabel</th><th scope=col>eventCategory</th><th scope=col>users</th></tr></thead>\n",
       "<tbody>\n",
       "\t<tr><th scope=row>1</th><td>GA1.2.1000767845.1461767781</td><td>::ABOUT                    </td><td>1                          </td></tr>\n",
       "\t<tr><th scope=row>2</th><td>GA1.2.1000767845.1461767781                          </td><td>column twelve::BRAD HEIDEMANN Chief Executive Officer</td><td>1                                                    </td></tr>\n",
       "\t<tr><th scope=row>3</th><td>GA1.2.1001075852.1456520683</td><td>::Clients                  </td><td>1                          </td></tr>\n",
       "\t<tr><th scope=row>4</th><td>GA1.2.1001075852.1456520683</td><td>slick-next::Next           </td><td>1                          </td></tr>\n",
       "\t<tr><th scope=row>5</th><td>GA1.2.1001361534.1458136980</td><td>::ABOUT                    </td><td>1                          </td></tr>\n",
       "\t<tr><th scope=row>6</th><td>GA1.2.1001361534.1458136980     </td><td>list__item__link link::Locations</td><td>1                               </td></tr>\n",
       "</tbody>\n",
       "</table>\n"
      ],
      "text/latex": [
       "\\begin{tabular}{r|lll}\n",
       "  & eventLabel & eventCategory & users\\\\\n",
       "\\hline\n",
       "\t1 & GA1.2.1000767845.1461767781 & ::ABOUT                     & 1                          \\\\\n",
       "\t2 & GA1.2.1000767845.1461767781                           & column twelve::BRAD HEIDEMANN Chief Executive Officer & 1                                                    \\\\\n",
       "\t3 & GA1.2.1001075852.1456520683 & ::Clients                   & 1                          \\\\\n",
       "\t4 & GA1.2.1001075852.1456520683 & slick-next::Next            & 1                          \\\\\n",
       "\t5 & GA1.2.1001361534.1458136980 & ::ABOUT                     & 1                          \\\\\n",
       "\t6 & GA1.2.1001361534.1458136980              & list\\_\\_item\\_\\_link link::Locations & 1                                       \\\\\n",
       "\\end{tabular}\n"
      ],
      "text/plain": [
       "                   eventLabel\n",
       "1 GA1.2.1000767845.1461767781\n",
       "2 GA1.2.1000767845.1461767781\n",
       "3 GA1.2.1001075852.1456520683\n",
       "4 GA1.2.1001075852.1456520683\n",
       "5 GA1.2.1001361534.1458136980\n",
       "6 GA1.2.1001361534.1458136980\n",
       "                                          eventCategory users\n",
       "1                                               ::ABOUT     1\n",
       "2 column twelve::BRAD HEIDEMANN Chief Executive Officer     1\n",
       "3                                             ::Clients     1\n",
       "4                                      slick-next::Next     1\n",
       "5                                               ::ABOUT     1\n",
       "6                      list__item__link link::Locations     1"
      ]
     },
     "metadata": {},
     "output_type": "display_data"
    }
   ],
   "source": [
    "head(events)"
   ]
  },
  {
   "cell_type": "code",
   "execution_count": 104,
   "metadata": {
    "collapsed": false
   },
   "outputs": [],
   "source": [
    "write.table(events, file = \"labels_categories_actions.tsv\", sep = \"\\t\",\n",
    "            fileEncoding = \"utf-8\")"
   ]
  },
  {
   "cell_type": "code",
   "execution_count": null,
   "metadata": {
    "collapsed": true
   },
   "outputs": [],
   "source": []
  }
 ],
 "metadata": {
  "kernelspec": {
   "display_name": "R",
   "language": "R",
   "name": "ir"
  },
  "language_info": {
   "codemirror_mode": "r",
   "file_extension": ".r",
   "mimetype": "text/x-r-source",
   "name": "R",
   "pygments_lexer": "r",
   "version": "3.3.0"
  }
 },
 "nbformat": 4,
 "nbformat_minor": 0
}
