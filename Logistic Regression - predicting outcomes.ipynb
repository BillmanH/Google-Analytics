{
 "cells": [
  {
   "cell_type": "code",
   "execution_count": 3,
   "metadata": {
    "collapsed": true
   },
   "outputs": [],
   "source": [
    "import matplotlib \n",
    "%matplotlib inline\n",
    "\n",
    "import matplotlib.pyplot as plt\n",
    "import pandas as pd\n",
    "import numpy as np\n",
    "import time\n",
    "\n",
    "from __future__ import division\n",
    "from collections import Counter\n",
    "\n",
    "from sklearn.feature_extraction.text import CountVectorizer\n",
    "from sklearn.metrics import f1_score"
   ]
  },
  {
   "cell_type": "markdown",
   "metadata": {},
   "source": [
    "## Cleaning and overview of the data. "
   ]
  },
  {
   "cell_type": "code",
   "execution_count": 4,
   "metadata": {
    "collapsed": false
   },
   "outputs": [
    {
     "data": {
      "text/html": [
       "<div>\n",
       "<table border=\"1\" class=\"dataframe\">\n",
       "  <thead>\n",
       "    <tr style=\"text-align: right;\">\n",
       "      <th></th>\n",
       "      <th>eventLabel</th>\n",
       "      <th>eventCategory</th>\n",
       "      <th>users</th>\n",
       "    </tr>\n",
       "  </thead>\n",
       "  <tbody>\n",
       "    <tr>\n",
       "      <th>1</th>\n",
       "      <td>GA1.2.1000767845.1461767781</td>\n",
       "      <td>::ABOUT</td>\n",
       "      <td>1</td>\n",
       "    </tr>\n",
       "    <tr>\n",
       "      <th>2</th>\n",
       "      <td>GA1.2.1000767845.1461767781</td>\n",
       "      <td>column twelve::BRAD HEIDEMANN Chief Executive ...</td>\n",
       "      <td>1</td>\n",
       "    </tr>\n",
       "    <tr>\n",
       "      <th>3</th>\n",
       "      <td>GA1.2.1001075852.1456520683</td>\n",
       "      <td>::Clients</td>\n",
       "      <td>1</td>\n",
       "    </tr>\n",
       "    <tr>\n",
       "      <th>4</th>\n",
       "      <td>GA1.2.1001075852.1456520683</td>\n",
       "      <td>slick-next::Next</td>\n",
       "      <td>1</td>\n",
       "    </tr>\n",
       "    <tr>\n",
       "      <th>5</th>\n",
       "      <td>GA1.2.1001361534.1458136980</td>\n",
       "      <td>::ABOUT</td>\n",
       "      <td>1</td>\n",
       "    </tr>\n",
       "  </tbody>\n",
       "</table>\n",
       "</div>"
      ],
      "text/plain": [
       "                    eventLabel  \\\n",
       "1  GA1.2.1000767845.1461767781   \n",
       "2  GA1.2.1000767845.1461767781   \n",
       "3  GA1.2.1001075852.1456520683   \n",
       "4  GA1.2.1001075852.1456520683   \n",
       "5  GA1.2.1001361534.1458136980   \n",
       "\n",
       "                                       eventCategory  users  \n",
       "1                                            ::ABOUT      1  \n",
       "2  column twelve::BRAD HEIDEMANN Chief Executive ...      1  \n",
       "3                                          ::Clients      1  \n",
       "4                                   slick-next::Next      1  \n",
       "5                                            ::ABOUT      1  "
      ]
     },
     "execution_count": 4,
     "metadata": {},
     "output_type": "execute_result"
    }
   ],
   "source": [
    "MyFile = r\"C:\\Users\\Bill\\Desktop\\Tahzoo.com Redesign\\GoogleAnalytics\\Experiments\\labels_categories_actions.tsv\"\n",
    "d1 = pd.read_csv(MyFile, sep=\"\\t\")\n",
    "d1.head()"
   ]
  },
  {
   "cell_type": "markdown",
   "metadata": {},
   "source": [
    "I'm going to use the \"Apply\" Button as a proxy for a job seeker. By doing this I'm saying: \"A job seeker is someone who clicks on the \"Apply\" button at least once. You could take any token from the event Category (SUBMIT, PHONE NOW, or any other DOM item that was sent to Google Analytics)."
   ]
  },
  {
   "cell_type": "code",
   "execution_count": 5,
   "metadata": {
    "collapsed": false
   },
   "outputs": [
    {
     "data": {
      "text/html": [
       "<div>\n",
       "<table border=\"1\" class=\"dataframe\">\n",
       "  <thead>\n",
       "    <tr style=\"text-align: right;\">\n",
       "      <th></th>\n",
       "      <th>eventLabel</th>\n",
       "      <th>eventCategory</th>\n",
       "      <th>users</th>\n",
       "    </tr>\n",
       "  </thead>\n",
       "  <tbody>\n",
       "    <tr>\n",
       "      <th>936</th>\n",
       "      <td>GA1.2.1099344678.1458727024</td>\n",
       "      <td>row::Apply</td>\n",
       "      <td>1</td>\n",
       "    </tr>\n",
       "    <tr>\n",
       "      <th>1153</th>\n",
       "      <td>GA1.2.1128186228.1465200792</td>\n",
       "      <td>white-button button::Apply</td>\n",
       "      <td>1</td>\n",
       "    </tr>\n",
       "    <tr>\n",
       "      <th>1913</th>\n",
       "      <td>GA1.2.120872653.1463487618</td>\n",
       "      <td>white-button button::Apply</td>\n",
       "      <td>1</td>\n",
       "    </tr>\n",
       "    <tr>\n",
       "      <th>2601</th>\n",
       "      <td>GA1.2.1292233588.1457906393</td>\n",
       "      <td>white-button button::Apply</td>\n",
       "      <td>1</td>\n",
       "    </tr>\n",
       "    <tr>\n",
       "      <th>3514</th>\n",
       "      <td>GA1.2.1385108706.1464723179</td>\n",
       "      <td>row::Apply</td>\n",
       "      <td>1</td>\n",
       "    </tr>\n",
       "    <tr>\n",
       "      <th>5651</th>\n",
       "      <td>GA1.2.1619902006.1462818168</td>\n",
       "      <td>white-button button::Apply</td>\n",
       "      <td>1</td>\n",
       "    </tr>\n",
       "    <tr>\n",
       "      <th>7726</th>\n",
       "      <td>GA1.2.184898488.1461943698</td>\n",
       "      <td>row::Apply</td>\n",
       "      <td>1</td>\n",
       "    </tr>\n",
       "    <tr>\n",
       "      <th>8745</th>\n",
       "      <td>GA1.2.1964129312.1460489858</td>\n",
       "      <td>white-button button::Apply</td>\n",
       "      <td>1</td>\n",
       "    </tr>\n",
       "    <tr>\n",
       "      <th>9859</th>\n",
       "      <td>GA1.2.2085630033.1457500258</td>\n",
       "      <td>white-button button::Apply</td>\n",
       "      <td>1</td>\n",
       "    </tr>\n",
       "    <tr>\n",
       "      <th>14640</th>\n",
       "      <td>GA1.2.663806719.1459958107</td>\n",
       "      <td>white-button button::Apply</td>\n",
       "      <td>1</td>\n",
       "    </tr>\n",
       "    <tr>\n",
       "      <th>14835</th>\n",
       "      <td>GA1.2.689136223.1460398544</td>\n",
       "      <td>white-button button::Apply</td>\n",
       "      <td>1</td>\n",
       "    </tr>\n",
       "    <tr>\n",
       "      <th>15718</th>\n",
       "      <td>GA1.2.785314807.1459715892</td>\n",
       "      <td>white-button button::Apply</td>\n",
       "      <td>1</td>\n",
       "    </tr>\n",
       "    <tr>\n",
       "      <th>15752</th>\n",
       "      <td>GA1.2.789390979.1457880199</td>\n",
       "      <td>white-button button::Apply</td>\n",
       "      <td>1</td>\n",
       "    </tr>\n",
       "    <tr>\n",
       "      <th>16036</th>\n",
       "      <td>GA1.2.837954676.1462285923</td>\n",
       "      <td>white-button button::Apply</td>\n",
       "      <td>1</td>\n",
       "    </tr>\n",
       "    <tr>\n",
       "      <th>16246</th>\n",
       "      <td>GA1.2.858378832.1463414947</td>\n",
       "      <td>white-button button::Apply</td>\n",
       "      <td>1</td>\n",
       "    </tr>\n",
       "  </tbody>\n",
       "</table>\n",
       "</div>"
      ],
      "text/plain": [
       "                        eventLabel               eventCategory  users\n",
       "936    GA1.2.1099344678.1458727024                  row::Apply      1\n",
       "1153   GA1.2.1128186228.1465200792  white-button button::Apply      1\n",
       "1913    GA1.2.120872653.1463487618  white-button button::Apply      1\n",
       "2601   GA1.2.1292233588.1457906393  white-button button::Apply      1\n",
       "3514   GA1.2.1385108706.1464723179                  row::Apply      1\n",
       "5651   GA1.2.1619902006.1462818168  white-button button::Apply      1\n",
       "7726    GA1.2.184898488.1461943698                  row::Apply      1\n",
       "8745   GA1.2.1964129312.1460489858  white-button button::Apply      1\n",
       "9859   GA1.2.2085630033.1457500258  white-button button::Apply      1\n",
       "14640   GA1.2.663806719.1459958107  white-button button::Apply      1\n",
       "14835   GA1.2.689136223.1460398544  white-button button::Apply      1\n",
       "15718   GA1.2.785314807.1459715892  white-button button::Apply      1\n",
       "15752   GA1.2.789390979.1457880199  white-button button::Apply      1\n",
       "16036   GA1.2.837954676.1462285923  white-button button::Apply      1\n",
       "16246   GA1.2.858378832.1463414947  white-button button::Apply      1"
      ]
     },
     "execution_count": 5,
     "metadata": {},
     "output_type": "execute_result"
    }
   ],
   "source": [
    "d1[d1['eventCategory'].apply(lambda x: \"Apply\" in x)]"
   ]
  },
  {
   "cell_type": "code",
   "execution_count": 21,
   "metadata": {
    "collapsed": false
   },
   "outputs": [
    {
     "data": {
      "text/html": [
       "<div>\n",
       "<table border=\"1\" class=\"dataframe\">\n",
       "  <thead>\n",
       "    <tr style=\"text-align: right;\">\n",
       "      <th></th>\n",
       "      <th>eventLabel</th>\n",
       "      <th>eventCategory</th>\n",
       "      <th>users</th>\n",
       "      <th>JobSeeker</th>\n",
       "      <th>cleanText</th>\n",
       "    </tr>\n",
       "  </thead>\n",
       "  <tbody>\n",
       "    <tr>\n",
       "      <th>1</th>\n",
       "      <td>GA1.2.1000767845.1461767781</td>\n",
       "      <td>::ABOUT</td>\n",
       "      <td>1</td>\n",
       "      <td>No</td>\n",
       "      <td>ABOUT</td>\n",
       "    </tr>\n",
       "    <tr>\n",
       "      <th>2</th>\n",
       "      <td>GA1.2.1000767845.1461767781</td>\n",
       "      <td>column twelve::BRAD HEIDEMANN Chief Executive ...</td>\n",
       "      <td>1</td>\n",
       "      <td>No</td>\n",
       "      <td>columntwelveBRADHEIDEMANNChiefExecutiveOfficer</td>\n",
       "    </tr>\n",
       "    <tr>\n",
       "      <th>3</th>\n",
       "      <td>GA1.2.1001075852.1456520683</td>\n",
       "      <td>::Clients</td>\n",
       "      <td>1</td>\n",
       "      <td>No</td>\n",
       "      <td>Clients</td>\n",
       "    </tr>\n",
       "    <tr>\n",
       "      <th>4</th>\n",
       "      <td>GA1.2.1001075852.1456520683</td>\n",
       "      <td>slick-next::Next</td>\n",
       "      <td>1</td>\n",
       "      <td>No</td>\n",
       "      <td>slick-nextNext</td>\n",
       "    </tr>\n",
       "    <tr>\n",
       "      <th>5</th>\n",
       "      <td>GA1.2.1001361534.1458136980</td>\n",
       "      <td>::ABOUT</td>\n",
       "      <td>1</td>\n",
       "      <td>No</td>\n",
       "      <td>ABOUT</td>\n",
       "    </tr>\n",
       "  </tbody>\n",
       "</table>\n",
       "</div>"
      ],
      "text/plain": [
       "                    eventLabel  \\\n",
       "1  GA1.2.1000767845.1461767781   \n",
       "2  GA1.2.1000767845.1461767781   \n",
       "3  GA1.2.1001075852.1456520683   \n",
       "4  GA1.2.1001075852.1456520683   \n",
       "5  GA1.2.1001361534.1458136980   \n",
       "\n",
       "                                       eventCategory  users JobSeeker  \\\n",
       "1                                            ::ABOUT      1        No   \n",
       "2  column twelve::BRAD HEIDEMANN Chief Executive ...      1        No   \n",
       "3                                          ::Clients      1        No   \n",
       "4                                   slick-next::Next      1        No   \n",
       "5                                            ::ABOUT      1        No   \n",
       "\n",
       "                                        cleanText  \n",
       "1                                           ABOUT  \n",
       "2  columntwelveBRADHEIDEMANNChiefExecutiveOfficer  \n",
       "3                                         Clients  \n",
       "4                                  slick-nextNext  \n",
       "5                                           ABOUT  "
      ]
     },
     "execution_count": 21,
     "metadata": {},
     "output_type": "execute_result"
    }
   ],
   "source": [
    "d1[\"JobSeeker\"] = d1[\"eventCategory\"].apply(lambda x: \"Yes\" if \"Apply\" in x else \"No\")\n",
    "d1[\"cleanText\"] = d1[\"eventCategory\"].apply(lambda x: x.replace(\" \",\"\").replace(\"::\",\"\"))\n",
    "d1.head()"
   ]
  },
  {
   "cell_type": "code",
   "execution_count": 29,
   "metadata": {
    "collapsed": false
   },
   "outputs": [],
   "source": [
    "df = pd.DataFrame()\n",
    "list_of_ids = np.unique(d1.eventLabel)\n",
    "for iter,id in enumerate(list_of_ids):\n",
    "    allEvents = d1[d1[\"eventLabel\"]==id][\"cleanText\"].tolist()\n",
    "    allJobs = d1[d1[\"eventLabel\"]==id][\"JobSeeker\"].tolist()\n",
    "    df.loc[iter,\"Events\"] = \" \".join(allEvents)\n",
    "    if \"Yes\" in allJobs:\n",
    "        df.loc[iter,\"JobSeeker\"] = \"Yes\"\n",
    "    else:\n",
    "        df.loc[iter,\"JobSeeker\"] = \"No\""
   ]
  },
  {
   "cell_type": "code",
   "execution_count": 58,
   "metadata": {
    "collapsed": false
   },
   "outputs": [
    {
     "data": {
      "text/html": [
       "<div>\n",
       "<table border=\"1\" class=\"dataframe\">\n",
       "  <thead>\n",
       "    <tr style=\"text-align: right;\">\n",
       "      <th></th>\n",
       "      <th>Events</th>\n",
       "      <th>JobSeeker</th>\n",
       "    </tr>\n",
       "  </thead>\n",
       "  <tbody>\n",
       "    <tr>\n",
       "      <th>234</th>\n",
       "      <td>Join MILTONKEYNES,UK readmore job-titleng-bind...</td>\n",
       "      <td>Yes</td>\n",
       "    </tr>\n",
       "    <tr>\n",
       "      <th>291</th>\n",
       "      <td>SeniorUXDesignerAvailableinDCandSeattle Weseek...</td>\n",
       "      <td>Yes</td>\n",
       "    </tr>\n",
       "    <tr>\n",
       "      <th>461</th>\n",
       "      <td>About readmore columntwelveEXCELLENCEDELIVERYM...</td>\n",
       "      <td>Yes</td>\n",
       "    </tr>\n",
       "    <tr>\n",
       "      <th>649</th>\n",
       "      <td>Join Overseeandcontributetosolutionplandefinit...</td>\n",
       "      <td>Yes</td>\n",
       "    </tr>\n",
       "    <tr>\n",
       "      <th>870</th>\n",
       "      <td>About Blog Join So,YouNeedaContentModel? Wesee...</td>\n",
       "      <td>Yes</td>\n",
       "    </tr>\n",
       "    <tr>\n",
       "      <th>1423</th>\n",
       "      <td>About Tahzooisoneofthelargestandfastest-growin...</td>\n",
       "      <td>Yes</td>\n",
       "    </tr>\n",
       "    <tr>\n",
       "      <th>1917</th>\n",
       "      <td>About Blog BusinessOperationsAnalystAvailablei...</td>\n",
       "      <td>Yes</td>\n",
       "    </tr>\n",
       "    <tr>\n",
       "      <th>2184</th>\n",
       "      <td>ABOUT About BLOG Clients JOIN Join SERVICES ac...</td>\n",
       "      <td>Yes</td>\n",
       "    </tr>\n",
       "    <tr>\n",
       "      <th>2473</th>\n",
       "      <td>About job-titleng-bindingJoinusasaGlobalCorpor...</td>\n",
       "      <td>Yes</td>\n",
       "    </tr>\n",
       "    <tr>\n",
       "      <th>3566</th>\n",
       "      <td>Join JoinusasSalesOperationsManagerinDC Tahzoo...</td>\n",
       "      <td>Yes</td>\n",
       "    </tr>\n",
       "    <tr>\n",
       "      <th>0</th>\n",
       "      <td>ABOUT columntwelveBRADHEIDEMANNChiefExecutiveO...</td>\n",
       "      <td>No</td>\n",
       "    </tr>\n",
       "    <tr>\n",
       "      <th>1</th>\n",
       "      <td>Clients slick-nextNext</td>\n",
       "      <td>No</td>\n",
       "    </tr>\n",
       "    <tr>\n",
       "      <th>2</th>\n",
       "      <td>ABOUT list__item__linklinkLocations list__item...</td>\n",
       "      <td>No</td>\n",
       "    </tr>\n",
       "    <tr>\n",
       "      <th>3</th>\n",
       "      <td>About columntwelvejob-listings-containerJoinus...</td>\n",
       "      <td>No</td>\n",
       "    </tr>\n",
       "    <tr>\n",
       "      <th>4</th>\n",
       "      <td>ABOUT list__item__linklinkCareers</td>\n",
       "      <td>No</td>\n",
       "    </tr>\n",
       "    <tr>\n",
       "      <th>5</th>\n",
       "      <td>close job-titleng-bindingJOINUSASABUSINESSANAL...</td>\n",
       "      <td>No</td>\n",
       "    </tr>\n",
       "    <tr>\n",
       "      <th>6</th>\n",
       "      <td>JOIN buttonwhite-buttonJOINOURTALENTCOMMUNITY–...</td>\n",
       "      <td>No</td>\n",
       "    </tr>\n",
       "    <tr>\n",
       "      <th>7</th>\n",
       "      <td>ABOUT JOIN READMORE SERVICES</td>\n",
       "      <td>No</td>\n",
       "    </tr>\n",
       "    <tr>\n",
       "      <th>8</th>\n",
       "      <td>WASHINGTON,DC job-titleng-bindingWEBDEVELOPERA...</td>\n",
       "      <td>No</td>\n",
       "    </tr>\n",
       "    <tr>\n",
       "      <th>9</th>\n",
       "      <td>ABOUT AsaCXagencytransformingthewaybusinessisd...</td>\n",
       "      <td>No</td>\n",
       "    </tr>\n",
       "  </tbody>\n",
       "</table>\n",
       "</div>"
      ],
      "text/plain": [
       "                                                 Events JobSeeker\n",
       "234   Join MILTONKEYNES,UK readmore job-titleng-bind...       Yes\n",
       "291   SeniorUXDesignerAvailableinDCandSeattle Weseek...       Yes\n",
       "461   About readmore columntwelveEXCELLENCEDELIVERYM...       Yes\n",
       "649   Join Overseeandcontributetosolutionplandefinit...       Yes\n",
       "870   About Blog Join So,YouNeedaContentModel? Wesee...       Yes\n",
       "1423  About Tahzooisoneofthelargestandfastest-growin...       Yes\n",
       "1917  About Blog BusinessOperationsAnalystAvailablei...       Yes\n",
       "2184  ABOUT About BLOG Clients JOIN Join SERVICES ac...       Yes\n",
       "2473  About job-titleng-bindingJoinusasaGlobalCorpor...       Yes\n",
       "3566  Join JoinusasSalesOperationsManagerinDC Tahzoo...       Yes\n",
       "0     ABOUT columntwelveBRADHEIDEMANNChiefExecutiveO...        No\n",
       "1                                Clients slick-nextNext        No\n",
       "2     ABOUT list__item__linklinkLocations list__item...        No\n",
       "3     About columntwelvejob-listings-containerJoinus...        No\n",
       "4                     ABOUT list__item__linklinkCareers        No\n",
       "5     close job-titleng-bindingJOINUSASABUSINESSANAL...        No\n",
       "6     JOIN buttonwhite-buttonJOINOURTALENTCOMMUNITY–...        No\n",
       "7                          ABOUT JOIN READMORE SERVICES        No\n",
       "8     WASHINGTON,DC job-titleng-bindingWEBDEVELOPERA...        No\n",
       "9     ABOUT AsaCXagencytransformingthewaybusinessisd...        No"
      ]
     },
     "execution_count": 58,
     "metadata": {},
     "output_type": "execute_result"
    }
   ],
   "source": [
    "pd.concat([df[df[\"JobSeeker\"]==\"Yes\"].head(10),df[df[\"JobSeeker\"]==\"No\"].head(10)])"
   ]
  },
  {
   "cell_type": "code",
   "execution_count": 33,
   "metadata": {
    "collapsed": false
   },
   "outputs": [
    {
     "data": {
      "text/plain": [
       "0.0032064985036340315"
      ]
     },
     "execution_count": 33,
     "metadata": {},
     "output_type": "execute_result"
    }
   ],
   "source": [
    "len(df[df['JobSeeker']==\"Yes\"])/len(df)"
   ]
  },
  {
   "cell_type": "markdown",
   "metadata": {},
   "source": [
    "## Converting the events to lists of tokens\n",
    "In order to predict using the model you have to turn the terms in the text into a 'bag of words' or collection of unigrams. Then the presense or absens of that unigram can be used to predict outcomes. "
   ]
  },
  {
   "cell_type": "code",
   "execution_count": 73,
   "metadata": {
    "collapsed": false
   },
   "outputs": [
    {
     "data": {
      "text/plain": [
       "<4678x9565 sparse matrix of type '<type 'numpy.int64'>'\n",
       "\twith 70913 stored elements in Compressed Sparse Row format>"
      ]
     },
     "execution_count": 73,
     "metadata": {},
     "output_type": "execute_result"
    }
   ],
   "source": [
    "vectorizer = CountVectorizer(min_df=1)\n",
    "X = vectorizer.fit_transform(df.Events.tolist())\n",
    "y = df.JobSeeker.tolist()\n",
    "X"
   ]
  },
  {
   "cell_type": "code",
   "execution_count": 74,
   "metadata": {
    "collapsed": false
   },
   "outputs": [
    {
     "data": {
      "text/plain": [
       "array([[0, 0, 0, ..., 0, 0, 0],\n",
       "       [0, 0, 0, ..., 0, 0, 0],\n",
       "       [0, 0, 0, ..., 0, 0, 0],\n",
       "       ..., \n",
       "       [0, 0, 0, ..., 0, 0, 0],\n",
       "       [0, 0, 0, ..., 0, 0, 0],\n",
       "       [0, 0, 0, ..., 0, 0, 0]], dtype=int64)"
      ]
     },
     "execution_count": 74,
     "metadata": {},
     "output_type": "execute_result"
    }
   ],
   "source": [
    "X.toarray()"
   ]
  },
  {
   "cell_type": "code",
   "execution_count": 63,
   "metadata": {
    "collapsed": false
   },
   "outputs": [
    {
     "data": {
      "text/plain": [
       "Counter({0: 9562, 1: 3})"
      ]
     },
     "execution_count": 63,
     "metadata": {},
     "output_type": "execute_result"
    }
   ],
   "source": [
    "Counter(X.toarray()[1])"
   ]
  },
  {
   "cell_type": "markdown",
   "metadata": {},
   "source": [
    "# Modeling\n",
    "I'm just using a Decision Tree Classifier and Logistic Regression as an examples. Further testing of live datasets would show what the best features are. "
   ]
  },
  {
   "cell_type": "markdown",
   "metadata": {},
   "source": [
    "## Decision Tree Classifier\n",
    "Because this model draws a series of decisions around the dataset it will always be 100% accurate. It may have lower performance on newly introduced users. "
   ]
  },
  {
   "cell_type": "code",
   "execution_count": 118,
   "metadata": {
    "collapsed": false
   },
   "outputs": [
    {
     "data": {
      "text/plain": [
       "DecisionTreeClassifier(class_weight=None, criterion='gini', max_depth=None,\n",
       "            max_features=None, max_leaf_nodes=None, min_samples_leaf=1,\n",
       "            min_samples_split=2, min_weight_fraction_leaf=0.0,\n",
       "            presort=False, random_state=0, splitter='best')"
      ]
     },
     "execution_count": 118,
     "metadata": {},
     "output_type": "execute_result"
    }
   ],
   "source": [
    "DTclf = DecisionTreeClassifier(random_state=0)\n",
    "DTclf.fit(X, y)"
   ]
  },
  {
   "cell_type": "code",
   "execution_count": 122,
   "metadata": {
    "collapsed": false
   },
   "outputs": [],
   "source": [
    "DTclf.predict(X)\n",
    "df[\"prediction\"] = DTclf.predict(X)"
   ]
  },
  {
   "cell_type": "code",
   "execution_count": 123,
   "metadata": {
    "collapsed": false
   },
   "outputs": [],
   "source": [
    "def get_results_matrix(df):  #I'll be using this function over and over again. \n",
    "    Right_and_Yes = df[(df[\"JobSeeker\"]==df[\"prediction\"])&(df[\"JobSeeker\"]==\"Yes\")]\n",
    "    Right_and_No = df[(df[\"JobSeeker\"]==df[\"prediction\"])&(df[\"JobSeeker\"]==\"No\")]\n",
    "    Wrong_and_Yes = df[(df[\"JobSeeker\"]!=df[\"prediction\"])&(df[\"JobSeeker\"]==\"Yes\")]\n",
    "    Wrong_and_No = df[(df[\"JobSeeker\"]!=df[\"prediction\"])&(df[\"JobSeeker\"]==\"No\")]\n",
    "    \n",
    "    results1 = pd.DataFrame(index=[\"Right_and_Yes\",\"Right_and_No\",\"Wrong_and_Yes\",\"Wrong_and_No\"], columns=[\"count\",\"percent\"])\n",
    "    results1.loc[\"Right_and_Yes\",[\"count\",\"percent\"]] = [len(Right_and_Yes),len(Right_and_Yes)/len(df)]\n",
    "    results1.loc[\"Right_and_No\",[\"count\",\"percent\"]] = [len(Right_and_No),len(Right_and_No)/len(df)]\n",
    "    results1.loc[\"Wrong_and_Yes\",[\"count\",\"percent\"]] = [len(Wrong_and_Yes),len(Wrong_and_Yes)/len(df)]\n",
    "    results1.loc[\"Wrong_and_No\",[\"count\",\"percent\"]] = [len(Wrong_and_No),len(Wrong_and_No)/len(df)]\n",
    "    results1\n",
    "\n",
    "    results2 = pd.DataFrame(index=[\"Guess:Right\",\"Guess:Wrong\"], columns=[\"Applied:Yes\",\"Applied:No\"])\n",
    "    results2.loc[\"Guess:Right\",\"Applied:Yes\"] = len(Right_and_Yes)\n",
    "    results2.loc[\"Guess:Wrong\",\"Applied:No\"] = len(Wrong_and_No)\n",
    "    results2.loc[\"Guess:Wrong\",\"Applied:Yes\"] = len(Wrong_and_Yes)\n",
    "    results2.loc[\"Guess:Right\",\"Applied:No\"] = len(Right_and_No)\n",
    "    results2\n",
    "    \n",
    "    print results2[\"Applied:Yes\"].apply(lambda x: x/results2[\"Applied:Yes\"].sum())\n",
    "    return results1,results2\n"
   ]
  },
  {
   "cell_type": "code",
   "execution_count": 124,
   "metadata": {
    "collapsed": false
   },
   "outputs": [
    {
     "name": "stdout",
     "output_type": "stream",
     "text": [
      "Guess:Right    1.0\n",
      "Guess:Wrong    0.0\n",
      "Name: Applied:Yes, dtype: float64\n"
     ]
    },
    {
     "data": {
      "text/html": [
       "<div>\n",
       "<table border=\"1\" class=\"dataframe\">\n",
       "  <thead>\n",
       "    <tr style=\"text-align: right;\">\n",
       "      <th></th>\n",
       "      <th>count</th>\n",
       "      <th>percent</th>\n",
       "    </tr>\n",
       "  </thead>\n",
       "  <tbody>\n",
       "    <tr>\n",
       "      <th>Right_and_Yes</th>\n",
       "      <td>15</td>\n",
       "      <td>0.0032065</td>\n",
       "    </tr>\n",
       "    <tr>\n",
       "      <th>Right_and_No</th>\n",
       "      <td>4663</td>\n",
       "      <td>0.996794</td>\n",
       "    </tr>\n",
       "    <tr>\n",
       "      <th>Wrong_and_Yes</th>\n",
       "      <td>0</td>\n",
       "      <td>0</td>\n",
       "    </tr>\n",
       "    <tr>\n",
       "      <th>Wrong_and_No</th>\n",
       "      <td>0</td>\n",
       "      <td>0</td>\n",
       "    </tr>\n",
       "  </tbody>\n",
       "</table>\n",
       "</div>"
      ],
      "text/plain": [
       "              count    percent\n",
       "Right_and_Yes    15  0.0032065\n",
       "Right_and_No   4663   0.996794\n",
       "Wrong_and_Yes     0          0\n",
       "Wrong_and_No      0          0"
      ]
     },
     "execution_count": 124,
     "metadata": {},
     "output_type": "execute_result"
    }
   ],
   "source": [
    "results1,results2 = get_results_matrix(df)\n",
    "results1"
   ]
  },
  {
   "cell_type": "code",
   "execution_count": 125,
   "metadata": {
    "collapsed": false
   },
   "outputs": [
    {
     "data": {
      "text/html": [
       "<div>\n",
       "<table border=\"1\" class=\"dataframe\">\n",
       "  <thead>\n",
       "    <tr style=\"text-align: right;\">\n",
       "      <th></th>\n",
       "      <th>Applied:Yes</th>\n",
       "      <th>Applied:No</th>\n",
       "    </tr>\n",
       "  </thead>\n",
       "  <tbody>\n",
       "    <tr>\n",
       "      <th>Guess:Right</th>\n",
       "      <td>15</td>\n",
       "      <td>4663</td>\n",
       "    </tr>\n",
       "    <tr>\n",
       "      <th>Guess:Wrong</th>\n",
       "      <td>0</td>\n",
       "      <td>0</td>\n",
       "    </tr>\n",
       "  </tbody>\n",
       "</table>\n",
       "</div>"
      ],
      "text/plain": [
       "            Applied:Yes Applied:No\n",
       "Guess:Right          15       4663\n",
       "Guess:Wrong           0          0"
      ]
     },
     "execution_count": 125,
     "metadata": {},
     "output_type": "execute_result"
    }
   ],
   "source": [
    "results2"
   ]
  },
  {
   "cell_type": "markdown",
   "metadata": {},
   "source": [
    "## Logistic Regression"
   ]
  },
  {
   "cell_type": "code",
   "execution_count": 126,
   "metadata": {
    "collapsed": true
   },
   "outputs": [],
   "source": [
    "from sklearn.linear_model import LogisticRegression"
   ]
  },
  {
   "cell_type": "code",
   "execution_count": 127,
   "metadata": {
    "collapsed": false
   },
   "outputs": [
    {
     "data": {
      "text/plain": [
       "LogisticRegression(C=1.0, class_weight=None, dual=False, fit_intercept=True,\n",
       "          intercept_scaling=1, max_iter=100, multi_class='ovr', n_jobs=1,\n",
       "          penalty='l2', random_state=0, solver='liblinear', tol=0.0001,\n",
       "          verbose=0, warm_start=False)"
      ]
     },
     "execution_count": 127,
     "metadata": {},
     "output_type": "execute_result"
    }
   ],
   "source": [
    "LRclf = LogisticRegression(random_state=0)\n",
    "LRclf.fit(X, y)"
   ]
  },
  {
   "cell_type": "code",
   "execution_count": 128,
   "metadata": {
    "collapsed": false
   },
   "outputs": [
    {
     "data": {
      "text/plain": [
       "array(['No', 'No', 'No', ..., 'No', 'No', 'No'], \n",
       "      dtype='|S3')"
      ]
     },
     "execution_count": 128,
     "metadata": {},
     "output_type": "execute_result"
    }
   ],
   "source": [
    "LRclf.predict(X)"
   ]
  },
  {
   "cell_type": "code",
   "execution_count": 129,
   "metadata": {
    "collapsed": false
   },
   "outputs": [
    {
     "data": {
      "text/html": [
       "<div>\n",
       "<table border=\"1\" class=\"dataframe\">\n",
       "  <thead>\n",
       "    <tr style=\"text-align: right;\">\n",
       "      <th></th>\n",
       "      <th>Events</th>\n",
       "      <th>JobSeeker</th>\n",
       "      <th>prediction</th>\n",
       "    </tr>\n",
       "  </thead>\n",
       "  <tbody>\n",
       "    <tr>\n",
       "      <th>234</th>\n",
       "      <td>Join MILTONKEYNES,UK readmore job-titleng-bind...</td>\n",
       "      <td>Yes</td>\n",
       "      <td>No</td>\n",
       "    </tr>\n",
       "    <tr>\n",
       "      <th>291</th>\n",
       "      <td>SeniorUXDesignerAvailableinDCandSeattle Weseek...</td>\n",
       "      <td>Yes</td>\n",
       "      <td>Yes</td>\n",
       "    </tr>\n",
       "    <tr>\n",
       "      <th>461</th>\n",
       "      <td>About readmore columntwelveEXCELLENCEDELIVERYM...</td>\n",
       "      <td>Yes</td>\n",
       "      <td>Yes</td>\n",
       "    </tr>\n",
       "    <tr>\n",
       "      <th>649</th>\n",
       "      <td>Join Overseeandcontributetosolutionplandefinit...</td>\n",
       "      <td>Yes</td>\n",
       "      <td>Yes</td>\n",
       "    </tr>\n",
       "    <tr>\n",
       "      <th>870</th>\n",
       "      <td>About Blog Join So,YouNeedaContentModel? Wesee...</td>\n",
       "      <td>Yes</td>\n",
       "      <td>Yes</td>\n",
       "    </tr>\n",
       "    <tr>\n",
       "      <th>1423</th>\n",
       "      <td>About Tahzooisoneofthelargestandfastest-growin...</td>\n",
       "      <td>Yes</td>\n",
       "      <td>No</td>\n",
       "    </tr>\n",
       "    <tr>\n",
       "      <th>1917</th>\n",
       "      <td>About Blog BusinessOperationsAnalystAvailablei...</td>\n",
       "      <td>Yes</td>\n",
       "      <td>Yes</td>\n",
       "    </tr>\n",
       "    <tr>\n",
       "      <th>2184</th>\n",
       "      <td>ABOUT About BLOG Clients JOIN Join SERVICES ac...</td>\n",
       "      <td>Yes</td>\n",
       "      <td>Yes</td>\n",
       "    </tr>\n",
       "    <tr>\n",
       "      <th>2473</th>\n",
       "      <td>About job-titleng-bindingJoinusasaGlobalCorpor...</td>\n",
       "      <td>Yes</td>\n",
       "      <td>No</td>\n",
       "    </tr>\n",
       "    <tr>\n",
       "      <th>3566</th>\n",
       "      <td>Join JoinusasSalesOperationsManagerinDC Tahzoo...</td>\n",
       "      <td>Yes</td>\n",
       "      <td>Yes</td>\n",
       "    </tr>\n",
       "    <tr>\n",
       "      <th>0</th>\n",
       "      <td>ABOUT columntwelveBRADHEIDEMANNChiefExecutiveO...</td>\n",
       "      <td>No</td>\n",
       "      <td>No</td>\n",
       "    </tr>\n",
       "    <tr>\n",
       "      <th>1</th>\n",
       "      <td>Clients slick-nextNext</td>\n",
       "      <td>No</td>\n",
       "      <td>No</td>\n",
       "    </tr>\n",
       "    <tr>\n",
       "      <th>2</th>\n",
       "      <td>ABOUT list__item__linklinkLocations list__item...</td>\n",
       "      <td>No</td>\n",
       "      <td>No</td>\n",
       "    </tr>\n",
       "    <tr>\n",
       "      <th>3</th>\n",
       "      <td>About columntwelvejob-listings-containerJoinus...</td>\n",
       "      <td>No</td>\n",
       "      <td>No</td>\n",
       "    </tr>\n",
       "    <tr>\n",
       "      <th>4</th>\n",
       "      <td>ABOUT list__item__linklinkCareers</td>\n",
       "      <td>No</td>\n",
       "      <td>No</td>\n",
       "    </tr>\n",
       "    <tr>\n",
       "      <th>5</th>\n",
       "      <td>close job-titleng-bindingJOINUSASABUSINESSANAL...</td>\n",
       "      <td>No</td>\n",
       "      <td>No</td>\n",
       "    </tr>\n",
       "    <tr>\n",
       "      <th>6</th>\n",
       "      <td>JOIN buttonwhite-buttonJOINOURTALENTCOMMUNITY–...</td>\n",
       "      <td>No</td>\n",
       "      <td>No</td>\n",
       "    </tr>\n",
       "    <tr>\n",
       "      <th>7</th>\n",
       "      <td>ABOUT JOIN READMORE SERVICES</td>\n",
       "      <td>No</td>\n",
       "      <td>No</td>\n",
       "    </tr>\n",
       "    <tr>\n",
       "      <th>8</th>\n",
       "      <td>WASHINGTON,DC job-titleng-bindingWEBDEVELOPERA...</td>\n",
       "      <td>No</td>\n",
       "      <td>No</td>\n",
       "    </tr>\n",
       "    <tr>\n",
       "      <th>9</th>\n",
       "      <td>ABOUT AsaCXagencytransformingthewaybusinessisd...</td>\n",
       "      <td>No</td>\n",
       "      <td>No</td>\n",
       "    </tr>\n",
       "  </tbody>\n",
       "</table>\n",
       "</div>"
      ],
      "text/plain": [
       "                                                 Events JobSeeker prediction\n",
       "234   Join MILTONKEYNES,UK readmore job-titleng-bind...       Yes         No\n",
       "291   SeniorUXDesignerAvailableinDCandSeattle Weseek...       Yes        Yes\n",
       "461   About readmore columntwelveEXCELLENCEDELIVERYM...       Yes        Yes\n",
       "649   Join Overseeandcontributetosolutionplandefinit...       Yes        Yes\n",
       "870   About Blog Join So,YouNeedaContentModel? Wesee...       Yes        Yes\n",
       "1423  About Tahzooisoneofthelargestandfastest-growin...       Yes         No\n",
       "1917  About Blog BusinessOperationsAnalystAvailablei...       Yes        Yes\n",
       "2184  ABOUT About BLOG Clients JOIN Join SERVICES ac...       Yes        Yes\n",
       "2473  About job-titleng-bindingJoinusasaGlobalCorpor...       Yes         No\n",
       "3566  Join JoinusasSalesOperationsManagerinDC Tahzoo...       Yes        Yes\n",
       "0     ABOUT columntwelveBRADHEIDEMANNChiefExecutiveO...        No         No\n",
       "1                                Clients slick-nextNext        No         No\n",
       "2     ABOUT list__item__linklinkLocations list__item...        No         No\n",
       "3     About columntwelvejob-listings-containerJoinus...        No         No\n",
       "4                     ABOUT list__item__linklinkCareers        No         No\n",
       "5     close job-titleng-bindingJOINUSASABUSINESSANAL...        No         No\n",
       "6     JOIN buttonwhite-buttonJOINOURTALENTCOMMUNITY–...        No         No\n",
       "7                          ABOUT JOIN READMORE SERVICES        No         No\n",
       "8     WASHINGTON,DC job-titleng-bindingWEBDEVELOPERA...        No         No\n",
       "9     ABOUT AsaCXagencytransformingthewaybusinessisd...        No         No"
      ]
     },
     "execution_count": 129,
     "metadata": {},
     "output_type": "execute_result"
    }
   ],
   "source": [
    "df[\"prediction\"] = LRclf.predict(X)\n",
    "#df[\"estimateProbability\"] = LRclf.predict_log_proba(X)\n",
    "pd.concat([df[df[\"JobSeeker\"]==\"Yes\"].head(10),df[df[\"JobSeeker\"]==\"No\"].head(10)])"
   ]
  },
  {
   "cell_type": "code",
   "execution_count": 130,
   "metadata": {
    "collapsed": false
   },
   "outputs": [
    {
     "name": "stdout",
     "output_type": "stream",
     "text": [
      "Guess:Right    0.6\n",
      "Guess:Wrong    0.4\n",
      "Name: Applied:Yes, dtype: float64\n"
     ]
    },
    {
     "data": {
      "text/html": [
       "<div>\n",
       "<table border=\"1\" class=\"dataframe\">\n",
       "  <thead>\n",
       "    <tr style=\"text-align: right;\">\n",
       "      <th></th>\n",
       "      <th>count</th>\n",
       "      <th>percent</th>\n",
       "    </tr>\n",
       "  </thead>\n",
       "  <tbody>\n",
       "    <tr>\n",
       "      <th>Right_and_Yes</th>\n",
       "      <td>9</td>\n",
       "      <td>0.0019239</td>\n",
       "    </tr>\n",
       "    <tr>\n",
       "      <th>Right_and_No</th>\n",
       "      <td>4663</td>\n",
       "      <td>0.996794</td>\n",
       "    </tr>\n",
       "    <tr>\n",
       "      <th>Wrong_and_Yes</th>\n",
       "      <td>6</td>\n",
       "      <td>0.0012826</td>\n",
       "    </tr>\n",
       "    <tr>\n",
       "      <th>Wrong_and_No</th>\n",
       "      <td>0</td>\n",
       "      <td>0</td>\n",
       "    </tr>\n",
       "  </tbody>\n",
       "</table>\n",
       "</div>"
      ],
      "text/plain": [
       "              count    percent\n",
       "Right_and_Yes     9  0.0019239\n",
       "Right_and_No   4663   0.996794\n",
       "Wrong_and_Yes     6  0.0012826\n",
       "Wrong_and_No      0          0"
      ]
     },
     "execution_count": 130,
     "metadata": {},
     "output_type": "execute_result"
    }
   ],
   "source": [
    "results1,results2 = get_results_matrix(df)\n",
    "results1"
   ]
  },
  {
   "cell_type": "code",
   "execution_count": 131,
   "metadata": {
    "collapsed": false
   },
   "outputs": [
    {
     "data": {
      "text/html": [
       "<div>\n",
       "<table border=\"1\" class=\"dataframe\">\n",
       "  <thead>\n",
       "    <tr style=\"text-align: right;\">\n",
       "      <th></th>\n",
       "      <th>Applied:Yes</th>\n",
       "      <th>Applied:No</th>\n",
       "    </tr>\n",
       "  </thead>\n",
       "  <tbody>\n",
       "    <tr>\n",
       "      <th>Guess:Right</th>\n",
       "      <td>9</td>\n",
       "      <td>4663</td>\n",
       "    </tr>\n",
       "    <tr>\n",
       "      <th>Guess:Wrong</th>\n",
       "      <td>6</td>\n",
       "      <td>0</td>\n",
       "    </tr>\n",
       "  </tbody>\n",
       "</table>\n",
       "</div>"
      ],
      "text/plain": [
       "            Applied:Yes Applied:No\n",
       "Guess:Right           9       4663\n",
       "Guess:Wrong           6          0"
      ]
     },
     "execution_count": 131,
     "metadata": {},
     "output_type": "execute_result"
    }
   ],
   "source": [
    "results2"
   ]
  },
  {
   "cell_type": "code",
   "execution_count": 144,
   "metadata": {
    "collapsed": false
   },
   "outputs": [
    {
     "data": {
      "text/plain": [
       "True"
      ]
     },
     "execution_count": 144,
     "metadata": {},
     "output_type": "execute_result"
    }
   ],
   "source": [
    "len(LRclf.coef_[0])==len(X.toarray()[1])"
   ]
  },
  {
   "cell_type": "code",
   "execution_count": 148,
   "metadata": {
    "collapsed": false
   },
   "outputs": [
    {
     "name": "stderr",
     "output_type": "stream",
     "text": [
      "C:\\Anaconda2\\lib\\site-packages\\ipykernel\\__main__.py:5: FutureWarning: sort(columns=....) is deprecated, use sort_values(by=.....)\n"
     ]
    },
    {
     "data": {
      "text/html": [
       "<div>\n",
       "<table border=\"1\" class=\"dataframe\">\n",
       "  <thead>\n",
       "    <tr style=\"text-align: right;\">\n",
       "      <th></th>\n",
       "      <th>names</th>\n",
       "      <th>score</th>\n",
       "    </tr>\n",
       "  </thead>\n",
       "  <tbody>\n",
       "    <tr>\n",
       "      <th>9168</th>\n",
       "      <td>white</td>\n",
       "      <td>1.415791</td>\n",
       "    </tr>\n",
       "    <tr>\n",
       "      <th>1531</th>\n",
       "      <td>buttonbuttonapply</td>\n",
       "      <td>1.415791</td>\n",
       "    </tr>\n",
       "    <tr>\n",
       "      <th>6558</th>\n",
       "      <td>selectoregberthendrikschiefstrategyofficer</td>\n",
       "      <td>0.956176</td>\n",
       "    </tr>\n",
       "    <tr>\n",
       "      <th>5562</th>\n",
       "      <td>paddedclientpartneravailablein</td>\n",
       "      <td>0.908382</td>\n",
       "    </tr>\n",
       "    <tr>\n",
       "      <th>6234</th>\n",
       "      <td>rowapply</td>\n",
       "      <td>0.810663</td>\n",
       "    </tr>\n",
       "  </tbody>\n",
       "</table>\n",
       "</div>"
      ],
      "text/plain": [
       "                                           names     score\n",
       "9168                                       white  1.415791\n",
       "1531                           buttonbuttonapply  1.415791\n",
       "6558  selectoregberthendrikschiefstrategyofficer  0.956176\n",
       "5562              paddedclientpartneravailablein  0.908382\n",
       "6234                                    rowapply  0.810663"
      ]
     },
     "execution_count": 148,
     "metadata": {},
     "output_type": "execute_result"
    }
   ],
   "source": [
    "token_values = pd.DataFrame()\n",
    "\n",
    "token_values[\"names\"] = vectorizer.get_feature_names()\n",
    "token_values[\"score\"] = LRclf.coef_[0]\n",
    "token_values.sort(\"score\",ascending=False).head()"
   ]
  },
  {
   "cell_type": "code",
   "execution_count": null,
   "metadata": {
    "collapsed": true
   },
   "outputs": [],
   "source": []
  }
 ],
 "metadata": {
  "kernelspec": {
   "display_name": "Python 2",
   "language": "python",
   "name": "python2"
  },
  "language_info": {
   "codemirror_mode": {
    "name": "ipython",
    "version": 2
   },
   "file_extension": ".py",
   "mimetype": "text/x-python",
   "name": "python",
   "nbconvert_exporter": "python",
   "pygments_lexer": "ipython2",
   "version": "2.7.11"
  }
 },
 "nbformat": 4,
 "nbformat_minor": 0
}
