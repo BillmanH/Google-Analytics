{
 "cells": [
  {
   "cell_type": "markdown",
   "metadata": {},
   "source": [
    "### loading and cleaning"
   ]
  },
  {
   "cell_type": "code",
   "execution_count": 70,
   "metadata": {
    "collapsed": true
   },
   "outputs": [],
   "source": [
    "import matplotlib \n",
    "%matplotlib inline\n",
    "\n",
    "import matplotlib.pyplot as plt\n",
    "import pandas as pd\n",
    "import numpy as np\n",
    "\n",
    "from __future__ import print_function\n",
    "from time import time\n",
    "from collections import Counter\n",
    "\n",
    "from sklearn.feature_extraction.text import CountVectorizer\n",
    "from sklearn.decomposition import LatentDirichletAllocation"
   ]
  },
  {
   "cell_type": "code",
   "execution_count": 2,
   "metadata": {
    "collapsed": true
   },
   "outputs": [],
   "source": [
    "n_samples = 2000\n",
    "n_features = 10000\n",
    "n_topics = 10\n",
    "n_top_words = 20"
   ]
  },
  {
   "cell_type": "code",
   "execution_count": 11,
   "metadata": {
    "collapsed": false
   },
   "outputs": [
    {
     "data": {
      "text/html": [
       "<div>\n",
       "<table border=\"1\" class=\"dataframe\">\n",
       "  <thead>\n",
       "    <tr style=\"text-align: right;\">\n",
       "      <th></th>\n",
       "      <th>eventLabel</th>\n",
       "      <th>eventCategory</th>\n",
       "      <th>users</th>\n",
       "    </tr>\n",
       "  </thead>\n",
       "  <tbody>\n",
       "    <tr>\n",
       "      <th>1</th>\n",
       "      <td>GA1.2.1000767845.1461767781</td>\n",
       "      <td>::ABOUT</td>\n",
       "      <td>1</td>\n",
       "    </tr>\n",
       "    <tr>\n",
       "      <th>2</th>\n",
       "      <td>GA1.2.1000767845.1461767781</td>\n",
       "      <td>column twelve::BRAD HEIDEMANN Chief Executive ...</td>\n",
       "      <td>1</td>\n",
       "    </tr>\n",
       "    <tr>\n",
       "      <th>3</th>\n",
       "      <td>GA1.2.1001075852.1456520683</td>\n",
       "      <td>::Clients</td>\n",
       "      <td>1</td>\n",
       "    </tr>\n",
       "    <tr>\n",
       "      <th>4</th>\n",
       "      <td>GA1.2.1001075852.1456520683</td>\n",
       "      <td>slick-next::Next</td>\n",
       "      <td>1</td>\n",
       "    </tr>\n",
       "    <tr>\n",
       "      <th>5</th>\n",
       "      <td>GA1.2.1001361534.1458136980</td>\n",
       "      <td>::ABOUT</td>\n",
       "      <td>1</td>\n",
       "    </tr>\n",
       "  </tbody>\n",
       "</table>\n",
       "</div>"
      ],
      "text/plain": [
       "                    eventLabel  \\\n",
       "1  GA1.2.1000767845.1461767781   \n",
       "2  GA1.2.1000767845.1461767781   \n",
       "3  GA1.2.1001075852.1456520683   \n",
       "4  GA1.2.1001075852.1456520683   \n",
       "5  GA1.2.1001361534.1458136980   \n",
       "\n",
       "                                       eventCategory  users  \n",
       "1                                            ::ABOUT      1  \n",
       "2  column twelve::BRAD HEIDEMANN Chief Executive ...      1  \n",
       "3                                          ::Clients      1  \n",
       "4                                   slick-next::Next      1  \n",
       "5                                            ::ABOUT      1  "
      ]
     },
     "execution_count": 11,
     "metadata": {},
     "output_type": "execute_result"
    }
   ],
   "source": [
    "MyFile = r\"C:\\Users\\Bill\\Desktop\\Tahzoo.com Redesign\\GoogleAnalytics\\Experiments\\labels_categories_actions.tsv\"\n",
    "d1 = pd.read_csv(MyFile, sep=\"\\t\")\n",
    "d1.head()"
   ]
  },
  {
   "cell_type": "code",
   "execution_count": 12,
   "metadata": {
    "collapsed": false
   },
   "outputs": [],
   "source": [
    "d1 = d1[d1['eventLabel'].apply(lambda x: \"GA1.\" in x)] "
   ]
  },
  {
   "cell_type": "markdown",
   "metadata": {},
   "source": [
    "Using individual events to infer a ‘topicality’ is similar to the assumptions in TOPIC MODELING: Assuming that an inherent theme in the user's behavior can be derived from the individual actions (.\n",
    "I've constructed a corpus as a list of events. So you can see here that this person clicked on \"JOIN\", \"READ MORE\" and \"BUSINESS OPERATIONS ANALYST AVAILABLE IN:\". Those are a \"Bag-of-events\" lists that will be used to build the Personas. "
   ]
  },
  {
   "cell_type": "code",
   "execution_count": 88,
   "metadata": {
    "collapsed": false
   },
   "outputs": [],
   "source": [
    "corpus = {}\n",
    "for i in np.unique(d1['eventLabel']):       #very long cleaning syntax :(\n",
    "    context = \"::\".join(d1[d1.eventLabel == i].eventCategory.tolist())\n",
    "    for word in bad_words:\n",
    "        context = context.replace(word,\" \")\n",
    "    cleaned_context = \"\".join([word for word in context.split(\" \") if len(word)>1]).replace(\"::\",\" \")\n",
    "    corpus[i] = cleaned_context"
   ]
  },
  {
   "cell_type": "code",
   "execution_count": 89,
   "metadata": {
    "collapsed": false
   },
   "outputs": [
    {
     "data": {
      "text/plain": [
       "4678"
      ]
     },
     "execution_count": 89,
     "metadata": {},
     "output_type": "execute_result"
    }
   ],
   "source": [
    "len(corpus)"
   ]
  },
  {
   "cell_type": "code",
   "execution_count": 90,
   "metadata": {
    "collapsed": false
   },
   "outputs": [
    {
     "data": {
      "text/plain": [
       "'GA1.2.905673169.1463358214'"
      ]
     },
     "execution_count": 90,
     "metadata": {},
     "output_type": "execute_result"
    }
   ],
   "source": [
    "corpus.keys()[1]"
   ]
  },
  {
   "cell_type": "markdown",
   "metadata": {},
   "source": [
    "Because the LDA model is traditionally used to find \"topics\" in text documents, I'm joining the text like so in order to create a \" \" separated list of tokens. "
   ]
  },
  {
   "cell_type": "code",
   "execution_count": 91,
   "metadata": {
    "collapsed": false
   },
   "outputs": [
    {
     "data": {
      "text/plain": [
       "' JOIN  READMORE jg--p BUSINESSOPERATIONSANALYSTAVAILABLEIN  :'"
      ]
     },
     "execution_count": 91,
     "metadata": {},
     "output_type": "execute_result"
    }
   ],
   "source": [
    "corpus[corpus.keys()[1]]"
   ]
  },
  {
   "cell_type": "code",
   "execution_count": 92,
   "metadata": {
    "collapsed": false
   },
   "outputs": [
    {
     "data": {
      "text/plain": [
       "'GA1.2.1560718834.1466087667'"
      ]
     },
     "execution_count": 92,
     "metadata": {},
     "output_type": "execute_result"
    }
   ],
   "source": [
    "corpus.keys()[35]"
   ]
  },
  {
   "cell_type": "code",
   "execution_count": 93,
   "metadata": {
    "collapsed": false
   },
   "outputs": [
    {
     "data": {
      "text/plain": [
       "' ABOUT  '"
      ]
     },
     "execution_count": 93,
     "metadata": {},
     "output_type": "execute_result"
    }
   ],
   "source": [
    "corpus[corpus.keys()[35]]"
   ]
  },
  {
   "cell_type": "markdown",
   "metadata": {},
   "source": [
    "Note that I’m using the inner HTML and class of the DOM element. In the current Tahzoo.com site the DOM elements have unspecific or unclear names. Inner HTML was substituted because it gives us some sense of what the user actually clicked on. \n",
    "* Better labels in DOM elements would make better models\n",
    "* Other kinds of events (hover, scroll, backup, etc.) would also be useful\n",
    "\n",
    "These are not implemented here as this is merely a POC.\n"
   ]
  },
  {
   "cell_type": "markdown",
   "metadata": {},
   "source": [
    "### This is the part where we build the actual model"
   ]
  },
  {
   "cell_type": "code",
   "execution_count": 94,
   "metadata": {
    "collapsed": true
   },
   "outputs": [],
   "source": [
    "data_samples = corpus.values()\n",
    "tf_vectorizer = CountVectorizer(max_df=0.95, min_df=2, max_features=n_features,\n",
    "                                stop_words='english')\n",
    "\n",
    "tf = tf_vectorizer.fit_transform(data_samples)"
   ]
  },
  {
   "cell_type": "code",
   "execution_count": 95,
   "metadata": {
    "collapsed": false
   },
   "outputs": [
    {
     "name": "stdout",
     "output_type": "stream",
     "text": [
      "Fitting LDA models with tf features, n_samples=2000 and n_features=10000...\n"
     ]
    }
   ],
   "source": [
    "print(\"Fitting LDA models with tf features, n_samples=%d and n_features=%d...\"\n",
    "      % (n_samples, n_features))\n",
    "lda = LatentDirichletAllocation(n_topics=n_topics, max_iter=5,\n",
    "                                learning_method='online', learning_offset=50.,\n",
    "                                random_state=0)\n",
    "lda.fit(tf)\n",
    "tf_feature_names = tf_vectorizer.get_feature_names()"
   ]
  },
  {
   "cell_type": "code",
   "execution_count": 96,
   "metadata": {
    "collapsed": false
   },
   "outputs": [],
   "source": [
    "#bunch of functions that I wrote to build the tables for the model:\n",
    "def get_single_topic(lda, tf_feature_names, n_top_words, topic):\n",
    "    words = [tf_feature_names[i] for i in lda.components_[topic].argsort()[:-n_top_words - 1:-1]]\n",
    "    scores = lda.components_[topic][lda.components_[topic].argsort()[:-n_top_words - 1:-1]]\n",
    "    df = pd.DataFrame(index=words,columns=['topic_{}'.format(topic)],data=scores)\n",
    "    return df\n",
    "\n",
    "def get_all_topics(lda, tf_feature_names, n_top_words,n_topics):\n",
    "    df = pd.DataFrame()\n",
    "    for topic in range(n_topics):\n",
    "        tmpdf = get_single_topic(lda, tf_feature_names, n_top_words, topic)\n",
    "        for item in tmpdf.index:\n",
    "            df.loc[item,'topic_{}'.format(topic)] = tmpdf.loc[item,'topic_{}'.format(topic)]\n",
    "    return df\n",
    "\n",
    "def get_topic_names(lda, tf_feature_names, n_top_words, n_topics):\n",
    "    themes = pd.Series()\n",
    "    for topic in range(n_topics):\n",
    "        theme = \" \".join([tf_feature_names[i] for i in lda.components_[topic].argsort()[:-n_top_words - 1:-1]])\n",
    "        themes.loc['topic_{}'.format(topic)] = theme\n",
    "    return themes\n",
    "\n",
    "df = get_all_topics(lda, tf_feature_names, n_top_words,n_topics)"
   ]
  },
  {
   "cell_type": "code",
   "execution_count": 97,
   "metadata": {
    "collapsed": false,
    "scrolled": true
   },
   "outputs": [
    {
     "data": {
      "text/html": [
       "<div>\n",
       "<table border=\"1\" class=\"dataframe\">\n",
       "  <thead>\n",
       "    <tr style=\"text-align: right;\">\n",
       "      <th></th>\n",
       "      <th>topic_0</th>\n",
       "      <th>topic_1</th>\n",
       "      <th>topic_2</th>\n",
       "      <th>topic_3</th>\n",
       "      <th>topic_4</th>\n",
       "      <th>topic_5</th>\n",
       "      <th>topic_6</th>\n",
       "      <th>topic_7</th>\n",
       "      <th>topic_8</th>\n",
       "      <th>topic_9</th>\n",
       "    </tr>\n",
       "  </thead>\n",
       "  <tbody>\n",
       "    <tr>\n",
       "      <th>join</th>\n",
       "      <td>197.903973</td>\n",
       "      <td>NaN</td>\n",
       "      <td>232.099814</td>\n",
       "      <td>125.193919</td>\n",
       "      <td>NaN</td>\n",
       "      <td>121.807906</td>\n",
       "      <td>NaN</td>\n",
       "      <td>NaN</td>\n",
       "      <td>NaN</td>\n",
       "      <td>NaN</td>\n",
       "    </tr>\n",
       "    <tr>\n",
       "      <th>readmore</th>\n",
       "      <td>60.116589</td>\n",
       "      <td>NaN</td>\n",
       "      <td>NaN</td>\n",
       "      <td>NaN</td>\n",
       "      <td>NaN</td>\n",
       "      <td>NaN</td>\n",
       "      <td>NaN</td>\n",
       "      <td>NaN</td>\n",
       "      <td>NaN</td>\n",
       "      <td>NaN</td>\n",
       "    </tr>\n",
       "    <tr>\n",
       "      <th>seattlerihmonddelft</th>\n",
       "      <td>43.038291</td>\n",
       "      <td>NaN</td>\n",
       "      <td>NaN</td>\n",
       "      <td>NaN</td>\n",
       "      <td>NaN</td>\n",
       "      <td>NaN</td>\n",
       "      <td>NaN</td>\n",
       "      <td>NaN</td>\n",
       "      <td>NaN</td>\n",
       "      <td>NaN</td>\n",
       "    </tr>\n",
       "    <tr>\n",
       "      <th>pg</th>\n",
       "      <td>33.003440</td>\n",
       "      <td>NaN</td>\n",
       "      <td>NaN</td>\n",
       "      <td>NaN</td>\n",
       "      <td>NaN</td>\n",
       "      <td>40.883459</td>\n",
       "      <td>NaN</td>\n",
       "      <td>NaN</td>\n",
       "      <td>NaN</td>\n",
       "      <td>NaN</td>\n",
       "    </tr>\n",
       "    <tr>\n",
       "      <th>webdeveloperavailablein</th>\n",
       "      <td>31.705257</td>\n",
       "      <td>NaN</td>\n",
       "      <td>NaN</td>\n",
       "      <td>NaN</td>\n",
       "      <td>NaN</td>\n",
       "      <td>NaN</td>\n",
       "      <td>NaN</td>\n",
       "      <td>NaN</td>\n",
       "      <td>NaN</td>\n",
       "      <td>NaN</td>\n",
       "    </tr>\n",
       "  </tbody>\n",
       "</table>\n",
       "</div>"
      ],
      "text/plain": [
       "                            topic_0  topic_1     topic_2     topic_3  topic_4  \\\n",
       "join                     197.903973      NaN  232.099814  125.193919      NaN   \n",
       "readmore                  60.116589      NaN         NaN         NaN      NaN   \n",
       "seattlerihmonddelft       43.038291      NaN         NaN         NaN      NaN   \n",
       "pg                        33.003440      NaN         NaN         NaN      NaN   \n",
       "webdeveloperavailablein   31.705257      NaN         NaN         NaN      NaN   \n",
       "\n",
       "                            topic_5  topic_6  topic_7  topic_8  topic_9  \n",
       "join                     121.807906      NaN      NaN      NaN      NaN  \n",
       "readmore                        NaN      NaN      NaN      NaN      NaN  \n",
       "seattlerihmonddelft             NaN      NaN      NaN      NaN      NaN  \n",
       "pg                        40.883459      NaN      NaN      NaN      NaN  \n",
       "webdeveloperavailablein         NaN      NaN      NaN      NaN      NaN  "
      ]
     },
     "execution_count": 97,
     "metadata": {},
     "output_type": "execute_result"
    }
   ],
   "source": [
    "df.head()"
   ]
  },
  {
   "cell_type": "code",
   "execution_count": 98,
   "metadata": {
    "collapsed": false
   },
   "outputs": [],
   "source": [
    "def score_document(doc_dic,df,lda, tf_feature_names, n_top_words, n_topics,\n",
    "                    returnDF=True,confidence=.01):\n",
    "    '''\n",
    "    gives scores to the origional document, assigning a category to each one. \n",
    "\n",
    "    returnDF : By default returns a DataFrame, set to false to return a dict.\n",
    "    confidence : this is the threashold that the model must meet to match the document to a topic.\n",
    "    set to .01 to include practically everything, set to .99 to include almost nothing.\n",
    "\n",
    "\n",
    "    document_scores = score_document(doc_dic,df,lda, tf_feature_names, n_top_words, n_topics)\n",
    "    '''\n",
    "    results_dict = {}\n",
    "    for key in doc_dic.keys():\n",
    "        document = doc_dic[key]\n",
    "        words = [tf_feature_names[i] for i in tf.getrow(doc_dic.keys().index(key)).indices]\n",
    "        scores = df[[word in words for word in df.index]]\n",
    "        TM_Score = pd.DataFrame()\n",
    "        TM_Score['docScore'] = scores.sum() \n",
    "        TM_Score['globalScore'] = df.sum()\n",
    "        TM_Score['relevance'] = TM_Score['docScore']/TM_Score['globalScore']\n",
    "        TM_Score['theme'] = get_topic_names(lda, tf_feature_names, n_top_words, n_topics)\n",
    "        results = TM_Score['relevance'].fillna(0).to_dict()\n",
    "        results['document'] = document\n",
    "        results['top_score'] = TM_Score['relevance'].max()\n",
    "\n",
    "        if TM_Score['relevance'].max() >= confidence:\n",
    "            results['top_theme'] = TM_Score['theme'][TM_Score['relevance'].tolist().index(TM_Score['relevance'].max())]\n",
    "            results['top_topic'] = TM_Score.index[TM_Score['relevance'].tolist().index(TM_Score['relevance'].max())]\n",
    "        else: \n",
    "            results['top_theme'] = 'unassigned'\n",
    "            results['top_topic'] = 'unassigned'\n",
    "        results_dict[key] = results\n",
    "    if returnDF:\n",
    "        return pd.DataFrame(results_dict).T\n",
    "    else:\n",
    "        return results_dict\n",
    "\n",
    "    \n",
    "Scored_corpus = score_document(corpus,df,lda, tf_feature_names, n_top_words, n_topics)"
   ]
  },
  {
   "cell_type": "code",
   "execution_count": 67,
   "metadata": {
    "collapsed": false
   },
   "outputs": [
    {
     "data": {
      "text/html": [
       "<div>\n",
       "<table border=\"1\" class=\"dataframe\">\n",
       "  <thead>\n",
       "    <tr style=\"text-align: right;\">\n",
       "      <th></th>\n",
       "      <th>document</th>\n",
       "      <th>top_score</th>\n",
       "      <th>top_theme</th>\n",
       "      <th>top_topic</th>\n",
       "      <th>topic_0</th>\n",
       "      <th>topic_1</th>\n",
       "      <th>topic_2</th>\n",
       "      <th>topic_3</th>\n",
       "      <th>topic_4</th>\n",
       "      <th>topic_5</th>\n",
       "      <th>topic_6</th>\n",
       "      <th>topic_7</th>\n",
       "      <th>topic_8</th>\n",
       "      <th>topic_9</th>\n",
       "    </tr>\n",
       "  </thead>\n",
       "  <tbody>\n",
       "    <tr>\n",
       "      <th>GA1.2.1000767845.1461767781</th>\n",
       "      <td>ABOUT BRAD HEIDEMANN Ex iv Offic</td>\n",
       "      <td>0.659162</td>\n",
       "      <td>brad heidemann offic iv ex hi ip vic hendriks ...</td>\n",
       "      <td>topic_0</td>\n",
       "      <td>0.659162</td>\n",
       "      <td>0</td>\n",
       "      <td>0</td>\n",
       "      <td>0.0345026</td>\n",
       "      <td>0.15588</td>\n",
       "      <td>0</td>\n",
       "      <td>0</td>\n",
       "      <td>0.0881421</td>\n",
       "      <td>0</td>\n",
       "      <td>0.0344578</td>\n",
       "    </tr>\n",
       "    <tr>\n",
       "      <th>GA1.2.1001075852.1456520683</th>\n",
       "      <td>ick-</td>\n",
       "      <td>0.052918</td>\n",
       "      <td>servi es lients join news ick business exe dev...</td>\n",
       "      <td>topic_5</td>\n",
       "      <td>0</td>\n",
       "      <td>0</td>\n",
       "      <td>0.0417342</td>\n",
       "      <td>0</td>\n",
       "      <td>0.043319</td>\n",
       "      <td>0.052918</td>\n",
       "      <td>0</td>\n",
       "      <td>0</td>\n",
       "      <td>0</td>\n",
       "      <td>0</td>\n",
       "    </tr>\n",
       "    <tr>\n",
       "      <th>GA1.2.1001361534.1458136980</th>\n",
       "      <td>ABOUT __i m__ __i m__ vi __i m__ ck ic</td>\n",
       "      <td>0.498616</td>\n",
       "      <td>__i m__ __ ic va wa mi ip uk iv vi ric onta nl...</td>\n",
       "      <td>topic_9</td>\n",
       "      <td>0</td>\n",
       "      <td>0</td>\n",
       "      <td>0.126666</td>\n",
       "      <td>0.115372</td>\n",
       "      <td>0.111922</td>\n",
       "      <td>0</td>\n",
       "      <td>0.0788973</td>\n",
       "      <td>0.217295</td>\n",
       "      <td>0</td>\n",
       "      <td>0.498616</td>\n",
       "    </tr>\n",
       "    <tr>\n",
       "      <th>GA1.2.1001524715.1453749442</th>\n",
       "      <td>-c pm Ex iv BD mm ic iv DL ic Ric TL Ric App i...</td>\n",
       "      <td>0.511881</td>\n",
       "      <td>__i m__ __ ic va wa mi ip uk iv vi ric onta nl...</td>\n",
       "      <td>topic_9</td>\n",
       "      <td>0.219856</td>\n",
       "      <td>0</td>\n",
       "      <td>0.0808245</td>\n",
       "      <td>0.289118</td>\n",
       "      <td>0.305371</td>\n",
       "      <td>0</td>\n",
       "      <td>0.0788973</td>\n",
       "      <td>0.294956</td>\n",
       "      <td>0</td>\n",
       "      <td>0.511881</td>\n",
       "    </tr>\n",
       "    <tr>\n",
       "      <th>GA1.2.1001826383.1456465105</th>\n",
       "      <td>ABOUT __i m__</td>\n",
       "      <td>0.380193</td>\n",
       "      <td>__i m__ __ ic va wa mi ip uk iv vi ric onta nl...</td>\n",
       "      <td>topic_9</td>\n",
       "      <td>0</td>\n",
       "      <td>0</td>\n",
       "      <td>0</td>\n",
       "      <td>0</td>\n",
       "      <td>0</td>\n",
       "      <td>0</td>\n",
       "      <td>0.0788973</td>\n",
       "      <td>0</td>\n",
       "      <td>0</td>\n",
       "      <td>0.380193</td>\n",
       "    </tr>\n",
       "  </tbody>\n",
       "</table>\n",
       "</div>"
      ],
      "text/plain": [
       "                                                                      document  \\\n",
       "GA1.2.1000767845.1461767781                   ABOUT BRAD HEIDEMANN Ex iv Offic   \n",
       "GA1.2.1001075852.1456520683                                               ick-   \n",
       "GA1.2.1001361534.1458136980             ABOUT __i m__ __i m__ vi __i m__ ck ic   \n",
       "GA1.2.1001524715.1453749442  -c pm Ex iv BD mm ic iv DL ic Ric TL Ric App i...   \n",
       "GA1.2.1001826383.1456465105                                      ABOUT __i m__   \n",
       "\n",
       "                            top_score  \\\n",
       "GA1.2.1000767845.1461767781  0.659162   \n",
       "GA1.2.1001075852.1456520683  0.052918   \n",
       "GA1.2.1001361534.1458136980  0.498616   \n",
       "GA1.2.1001524715.1453749442  0.511881   \n",
       "GA1.2.1001826383.1456465105  0.380193   \n",
       "\n",
       "                                                                     top_theme  \\\n",
       "GA1.2.1000767845.1461767781  brad heidemann offic iv ex hi ip vic hendriks ...   \n",
       "GA1.2.1001075852.1456520683  servi es lients join news ick business exe dev...   \n",
       "GA1.2.1001361534.1458136980  __i m__ __ ic va wa mi ip uk iv vi ric onta nl...   \n",
       "GA1.2.1001524715.1453749442  __i m__ __ ic va wa mi ip uk iv vi ric onta nl...   \n",
       "GA1.2.1001826383.1456465105  __i m__ __ ic va wa mi ip uk iv vi ric onta nl...   \n",
       "\n",
       "                            top_topic   topic_0 topic_1    topic_2    topic_3  \\\n",
       "GA1.2.1000767845.1461767781   topic_0  0.659162       0          0  0.0345026   \n",
       "GA1.2.1001075852.1456520683   topic_5         0       0  0.0417342          0   \n",
       "GA1.2.1001361534.1458136980   topic_9         0       0   0.126666   0.115372   \n",
       "GA1.2.1001524715.1453749442   topic_9  0.219856       0  0.0808245   0.289118   \n",
       "GA1.2.1001826383.1456465105   topic_9         0       0          0          0   \n",
       "\n",
       "                              topic_4   topic_5    topic_6    topic_7 topic_8  \\\n",
       "GA1.2.1000767845.1461767781   0.15588         0          0  0.0881421       0   \n",
       "GA1.2.1001075852.1456520683  0.043319  0.052918          0          0       0   \n",
       "GA1.2.1001361534.1458136980  0.111922         0  0.0788973   0.217295       0   \n",
       "GA1.2.1001524715.1453749442  0.305371         0  0.0788973   0.294956       0   \n",
       "GA1.2.1001826383.1456465105         0         0  0.0788973          0       0   \n",
       "\n",
       "                               topic_9  \n",
       "GA1.2.1000767845.1461767781  0.0344578  \n",
       "GA1.2.1001075852.1456520683          0  \n",
       "GA1.2.1001361534.1458136980   0.498616  \n",
       "GA1.2.1001524715.1453749442   0.511881  \n",
       "GA1.2.1001826383.1456465105   0.380193  "
      ]
     },
     "execution_count": 67,
     "metadata": {},
     "output_type": "execute_result"
    }
   ],
   "source": [
    "Scored_corpus.head()"
   ]
  },
  {
   "cell_type": "code",
   "execution_count": 73,
   "metadata": {
    "collapsed": false
   },
   "outputs": [
    {
     "data": {
      "image/png": "[encoded data removed]",
      "text/plain": [
       "<matplotlib.figure.Figure at 0xc0cccf8>"
      ]
     },
     "metadata": {},
     "output_type": "display_data"
    }
   ],
   "source": [
    "Scored_corpus['top_score'].hist(bins=60)\n",
    "\n",
    "labels,values = zip(*Counter(Scored_corpus['top_topic'].tolist()).items())\n",
    "\n",
    "topic_names = [label for label in labels if label != 'unassigned']\n",
    "\n",
    "indexes = np.arange(len(labels))\n",
    "width = 1\n",
    "plt.bar(indexes, values, width)\n",
    "plt.xticks(indexes + width * 0.5)\n",
    "plt.xlabel(labels)\n",
    "plt.xkcd()\n",
    "plt.show()"
   ]
  },
  {
   "cell_type": "markdown",
   "metadata": {},
   "source": [
    "You can see the breakdown of each document in the corpus based on the frequency of each topic (out of order because it's using the order of apperance in \"top_topic\")"
   ]
  },
  {
   "cell_type": "code",
   "execution_count": 74,
   "metadata": {
    "collapsed": false
   },
   "outputs": [
    {
     "data": {
      "text/plain": [
       "count     4678.0\n",
       "unique     849.0\n",
       "top          0.0\n",
       "freq       442.0\n",
       "Name: top_score, dtype: float64"
      ]
     },
     "execution_count": 74,
     "metadata": {},
     "output_type": "execute_result"
    }
   ],
   "source": [
    "Scored_corpus['top_score'].describe()"
   ]
  },
  {
   "cell_type": "code",
   "execution_count": 75,
   "metadata": {
    "collapsed": false
   },
   "outputs": [
    {
     "data": {
      "text/plain": [
       "topic_7    0.000000\n",
       "topic_6    0.067163\n",
       "topic_5    0.052918\n",
       "topic_4    0.000000\n",
       "topic_3    0.000000\n",
       "topic_2    0.000000\n",
       "topic_1    0.000000\n",
       "topic_0    0.000000\n",
       "topic_9    0.055281\n",
       "topic_8    0.021471\n",
       "dtype: float64"
      ]
     },
     "execution_count": 75,
     "metadata": {},
     "output_type": "execute_result"
    }
   ],
   "source": [
    "Scored_corpus[topic_names].median()"
   ]
  },
  {
   "cell_type": "code",
   "execution_count": 78,
   "metadata": {
    "collapsed": false
   },
   "outputs": [],
   "source": [
    "df.to_csv(r'C:\\Users\\Bill\\Desktop\\Tahzoo.com Redesign\\GoogleAnalytics\\Experiments\\token_list.csv')"
   ]
  },
  {
   "cell_type": "code",
   "execution_count": 79,
   "metadata": {
    "collapsed": true
   },
   "outputs": [],
   "source": [
    "Scored_corpus.to_csv('C:\\Users\\Bill\\Desktop\\Tahzoo.com Redesign\\GoogleAnalytics\\Experiments\\Scored_corpus.csv')"
   ]
  },
  {
   "cell_type": "markdown",
   "metadata": {},
   "source": [
    "Building a solid them model involved running this over and over again. \n",
    "* Add terms to the Bad-words list. \n",
    "* Remove or add tokens. \n",
    "* Summarize the text into a single text token\n",
    "\n",
    "Repeat this exorcise until the groups are meaningfull. "
   ]
  },
  {
   "cell_type": "code",
   "execution_count": 81,
   "metadata": {
    "collapsed": true
   },
   "outputs": [],
   "source": [
    "import csv\n",
    "w = csv.writer(open(\"C:\\Users\\Bill\\Desktop\\Tahzoo.com Redesign\\GoogleAnalytics\\Experiments\\corpus.csv\", \"w\"))\n",
    "for key, val in corpus.items():\n",
    "    w.writerow([key, val])\n",
    "    "
   ]
  },
  {
   "cell_type": "code",
   "execution_count": null,
   "metadata": {
    "collapsed": true
   },
   "outputs": [],
   "source": []
  }
 ],
 "metadata": {
  "kernelspec": {
   "display_name": "Python 2",
   "language": "python",
   "name": "python2"
  },
  "language_info": {
   "codemirror_mode": {
    "name": "ipython",
    "version": 2
   },
   "file_extension": ".py",
   "mimetype": "text/x-python",
   "name": "python",
   "nbconvert_exporter": "python",
   "pygments_lexer": "ipython2",
   "version": "2.7.11"
  }
 },
 "nbformat": 4,
 "nbformat_minor": 0
}
